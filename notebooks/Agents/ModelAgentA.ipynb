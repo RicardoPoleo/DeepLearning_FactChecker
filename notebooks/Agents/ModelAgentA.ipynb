{
  "nbformat": 4,
  "nbformat_minor": 0,
  "metadata": {
    "colab": {
      "provenance": [],
      "authorship_tag": "ABX9TyN2R+N/eXN0kZttPK2EdsmX",
      "include_colab_link": true
    },
    "kernelspec": {
      "name": "python3",
      "display_name": "Python 3"
    },
    "language_info": {
      "name": "python"
    }
  },
  "cells": [
    {
      "cell_type": "markdown",
      "metadata": {
        "id": "view-in-github",
        "colab_type": "text"
      },
      "source": [
        "<a href=\"https://colab.research.google.com/github/RicardoPoleo/DeepLearning_FactChecker/blob/main/notebooks/Agents/ModelAgentA.ipynb\" target=\"_parent\"><img src=\"https://colab.research.google.com/assets/colab-badge.svg\" alt=\"Open In Colab\"/></a>"
      ]
    },
    {
      "cell_type": "code",
      "source": [
        "#@title Install Dependencies\n",
        "!pip install sentence-transformers torch transformers"
      ],
      "metadata": {
        "id": "bOVNw7fCuq2C"
      },
      "execution_count": null,
      "outputs": []
    },
    {
      "cell_type": "code",
      "execution_count": null,
      "metadata": {
        "id": "LnaLa1EFukjv"
      },
      "outputs": [],
      "source": [
        "import torch\n",
        "from transformers import AutoTokenizer, AutoModelForTokenClassification\n",
        "import logging\n",
        "\n",
        "# Setup basic configuration for logging\n",
        "logging.basicConfig(level=logging.INFO)\n",
        "\n",
        "class ClaimAnalysisAgent:\n",
        "    def __init__(self, model_name=\"Clinical-AI-Apollo/Medical-NER\", tokenizer_name=None, max_length=512):\n",
        "        if tokenizer_name is None:\n",
        "            tokenizer_name = model_name\n",
        "        try:\n",
        "            self.tokenizer = AutoTokenizer.from_pretrained(tokenizer_name)\n",
        "            self.model = AutoModelForTokenClassification.from_pretrained(model_name)\n",
        "            logging.info(f\"Model and tokenizer loaded successfully from {model_name}.\")\n",
        "        except Exception as e:\n",
        "            logging.error(f\"Failed to load model or tokenizer: {e}\")\n",
        "            raise\n",
        "\n",
        "        special_tokens = [\"COVID-19\"]\n",
        "        self.tokenizer.add_tokens(special_tokens)\n",
        "        self.model.resize_token_embeddings(len(self.tokenizer))\n",
        "        self.max_length = max_length\n",
        "\n",
        "    def analyze_claim(self, texts):\n",
        "        if isinstance(texts, str):\n",
        "            texts = [texts]  # Allow single string input for convenience\n",
        "        inputs = self.tokenizer(texts, return_tensors=\"pt\", truncation=True, padding=True, max_length=self.max_length)\n",
        "        outputs = self.model(**inputs).logits\n",
        "        predictions = torch.argmax(outputs, dim=2)\n",
        "\n",
        "        results = []\n",
        "        for i in range(len(texts)):\n",
        "            tokens = self.tokenizer.convert_ids_to_tokens(inputs[\"input_ids\"][i])\n",
        "            labels = [self.model.config.id2label[p.item()] for p in predictions[i]]\n",
        "            entities = self.extract_entities(tokens, labels)\n",
        "            results.append(entities)\n",
        "        return results\n",
        "\n",
        "    def extract_entities(self, tokens, labels):\n",
        "        entities = []\n",
        "        current_entity = []\n",
        "        for token, label in zip(tokens, labels):\n",
        "            if token in [\"[CLS]\", \"[SEP]\"]:\n",
        "                continue\n",
        "            if token.startswith(\"▁\"):\n",
        "                token = token[1:]  # Handling tokenization artifacts\n",
        "            if label != \"O\":\n",
        "                if token.startswith(\"##\"):\n",
        "                    token = token[2:]\n",
        "                if current_entity and not token.startswith(\"##\"):\n",
        "                    entities.append(\" \".join(current_entity))\n",
        "                    current_entity = []\n",
        "                current_entity.append(token)\n",
        "            else:\n",
        "                if current_entity:\n",
        "                    entities.append(\" \".join(current_entity))\n",
        "                    current_entity = []\n",
        "\n",
        "        if current_entity:\n",
        "            entities.append(\" \".join(current_entity))\n",
        "\n",
        "        return list(set(entities))  # Removing duplicates if needed\n",
        "\n",
        "# Example usage\n",
        "agent = ClaimAnalysisAgent()\n",
        "text1 = \"Vitamin C cures cancer. COVID-19 is a global pandemic.\"\n",
        "entities1 = agent.analyze_claim(text1)\n",
        "print(\"Extracted entities:\", entities1)\n"
      ]
    }
  ]
}