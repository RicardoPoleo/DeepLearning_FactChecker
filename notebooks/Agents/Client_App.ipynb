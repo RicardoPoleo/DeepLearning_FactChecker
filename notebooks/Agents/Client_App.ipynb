{
  "nbformat": 4,
  "nbformat_minor": 0,
  "metadata": {
    "colab": {
      "provenance": [],
      "authorship_tag": "ABX9TyNqwUf6FHdT3r7ybTAd2Q3n",
      "include_colab_link": true
    },
    "kernelspec": {
      "name": "python3",
      "display_name": "Python 3"
    },
    "language_info": {
      "name": "python"
    },
    "widgets": {
      "application/vnd.jupyter.widget-state+json": {
        "04f07092ac674f9580d8af71155d87da": {
          "model_module": "@jupyter-widgets/controls",
          "model_name": "TextModel",
          "model_module_version": "1.5.0",
          "state": {
            "_dom_classes": [],
            "_model_module": "@jupyter-widgets/controls",
            "_model_module_version": "1.5.0",
            "_model_name": "TextModel",
            "_view_count": null,
            "_view_module": "@jupyter-widgets/controls",
            "_view_module_version": "1.5.0",
            "_view_name": "TextView",
            "continuous_update": true,
            "description": "Claim:",
            "description_tooltip": null,
            "disabled": false,
            "layout": "IPY_MODEL_bf8f9c675e0443489ae3a4c5b6d7c4cd",
            "placeholder": "Type a health claim here",
            "style": "IPY_MODEL_f952e822bc374ad8a83c1e9942416eb0",
            "value": "asdasd"
          }
        },
        "bf8f9c675e0443489ae3a4c5b6d7c4cd": {
          "model_module": "@jupyter-widgets/base",
          "model_name": "LayoutModel",
          "model_module_version": "1.2.0",
          "state": {
            "_model_module": "@jupyter-widgets/base",
            "_model_module_version": "1.2.0",
            "_model_name": "LayoutModel",
            "_view_count": null,
            "_view_module": "@jupyter-widgets/base",
            "_view_module_version": "1.2.0",
            "_view_name": "LayoutView",
            "align_content": null,
            "align_items": null,
            "align_self": null,
            "border": null,
            "bottom": null,
            "display": null,
            "flex": null,
            "flex_flow": null,
            "grid_area": null,
            "grid_auto_columns": null,
            "grid_auto_flow": null,
            "grid_auto_rows": null,
            "grid_column": null,
            "grid_gap": null,
            "grid_row": null,
            "grid_template_areas": null,
            "grid_template_columns": null,
            "grid_template_rows": null,
            "height": null,
            "justify_content": null,
            "justify_items": null,
            "left": null,
            "margin": null,
            "max_height": null,
            "max_width": null,
            "min_height": null,
            "min_width": null,
            "object_fit": null,
            "object_position": null,
            "order": null,
            "overflow": null,
            "overflow_x": null,
            "overflow_y": null,
            "padding": null,
            "right": null,
            "top": null,
            "visibility": null,
            "width": null
          }
        },
        "f952e822bc374ad8a83c1e9942416eb0": {
          "model_module": "@jupyter-widgets/controls",
          "model_name": "DescriptionStyleModel",
          "model_module_version": "1.5.0",
          "state": {
            "_model_module": "@jupyter-widgets/controls",
            "_model_module_version": "1.5.0",
            "_model_name": "DescriptionStyleModel",
            "_view_count": null,
            "_view_module": "@jupyter-widgets/base",
            "_view_module_version": "1.2.0",
            "_view_name": "StyleView",
            "description_width": ""
          }
        },
        "7a464594dadc4dd591f6fd80ff71b8ea": {
          "model_module": "@jupyter-widgets/controls",
          "model_name": "TextareaModel",
          "model_module_version": "1.5.0",
          "state": {
            "_dom_classes": [],
            "_model_module": "@jupyter-widgets/controls",
            "_model_module_version": "1.5.0",
            "_model_name": "TextareaModel",
            "_view_count": null,
            "_view_module": "@jupyter-widgets/controls",
            "_view_module_version": "1.5.0",
            "_view_name": "TextareaView",
            "continuous_update": true,
            "description": "Result:",
            "description_tooltip": null,
            "disabled": true,
            "layout": "IPY_MODEL_cb1a01e9d08d41d49b38e8abd503553a",
            "placeholder": "Fact-check result will appear here...",
            "rows": null,
            "style": "IPY_MODEL_51a37a2fe8444a96859293e9a82ad83d",
            "value": ""
          }
        },
        "cb1a01e9d08d41d49b38e8abd503553a": {
          "model_module": "@jupyter-widgets/base",
          "model_name": "LayoutModel",
          "model_module_version": "1.2.0",
          "state": {
            "_model_module": "@jupyter-widgets/base",
            "_model_module_version": "1.2.0",
            "_model_name": "LayoutModel",
            "_view_count": null,
            "_view_module": "@jupyter-widgets/base",
            "_view_module_version": "1.2.0",
            "_view_name": "LayoutView",
            "align_content": null,
            "align_items": null,
            "align_self": null,
            "border": null,
            "bottom": null,
            "display": null,
            "flex": null,
            "flex_flow": null,
            "grid_area": null,
            "grid_auto_columns": null,
            "grid_auto_flow": null,
            "grid_auto_rows": null,
            "grid_column": null,
            "grid_gap": null,
            "grid_row": null,
            "grid_template_areas": null,
            "grid_template_columns": null,
            "grid_template_rows": null,
            "height": "200px",
            "justify_content": null,
            "justify_items": null,
            "left": null,
            "margin": null,
            "max_height": null,
            "max_width": null,
            "min_height": null,
            "min_width": null,
            "object_fit": null,
            "object_position": null,
            "order": null,
            "overflow": null,
            "overflow_x": null,
            "overflow_y": null,
            "padding": null,
            "right": null,
            "top": null,
            "visibility": null,
            "width": "400px"
          }
        },
        "51a37a2fe8444a96859293e9a82ad83d": {
          "model_module": "@jupyter-widgets/controls",
          "model_name": "DescriptionStyleModel",
          "model_module_version": "1.5.0",
          "state": {
            "_model_module": "@jupyter-widgets/controls",
            "_model_module_version": "1.5.0",
            "_model_name": "DescriptionStyleModel",
            "_view_count": null,
            "_view_module": "@jupyter-widgets/base",
            "_view_module_version": "1.2.0",
            "_view_name": "StyleView",
            "description_width": ""
          }
        }
      }
    }
  },
  "cells": [
    {
      "cell_type": "markdown",
      "metadata": {
        "id": "view-in-github",
        "colab_type": "text"
      },
      "source": [
        "<a href=\"https://colab.research.google.com/github/RicardoPoleo/DeepLearning_FactChecker/blob/main/notebooks/Agents/Client_App.ipynb\" target=\"_parent\"><img src=\"https://colab.research.google.com/assets/colab-badge.svg\" alt=\"Open In Colab\"/></a>"
      ]
    },
    {
      "cell_type": "code",
      "source": [
        "!pip install requests"
      ],
      "metadata": {
        "id": "D8CxAS0i-IVh"
      },
      "execution_count": null,
      "outputs": []
    },
    {
      "cell_type": "code",
      "source": [
        "CLAIM_ANALYSIS_URL = 'https://example.com/claim-analysis'\n",
        "EVIDENCE_RETRIEVAL_URL = 'https://example.com/evidence-retrieval'\n",
        "VERDICT_AND_EXPLANATION_URL = 'https://example.com/verdict-and-explanation'"
      ],
      "metadata": {
        "id": "yNsR4hl_-KYN"
      },
      "execution_count": null,
      "outputs": []
    },
    {
      "cell_type": "code",
      "source": [
        "import requests\n",
        "\n",
        "def post_request(url, json_data):\n",
        "    try:\n",
        "        response = requests.post(url, json=json_data)\n",
        "        response.raise_for_status()  # Raises an HTTPError for bad responses\n",
        "        return response.json()  # Returns the json response content\n",
        "    except requests.exceptions.HTTPError as http_err:\n",
        "        print(f'HTTP error occurred: {http_err}')  # Python 3.6\n",
        "    except Exception as err:\n",
        "        print(f'An error occurred: {err}')\n",
        "    return None\n",
        "\n",
        "def process_claim(claim_text):\n",
        "    # Step 1: Claim Analysis\n",
        "    keywords = post_request(CLAIM_ANALYSIS_URL, {'text': claim_text})\n",
        "    if not keywords:\n",
        "        return \"Error processing claim analysis.\"\n",
        "\n",
        "    # Step 2: Evidence Retrieval\n",
        "    evidence = post_request(EVIDENCE_RETRIEVAL_URL, {'keywords': keywords})\n",
        "    if not evidence:\n",
        "        return \"Error retrieving evidence.\"\n",
        "\n",
        "    # Step 3: Verdict and Explanation\n",
        "    verdict = post_request(VERDICT_AND_EXPLANATION_URL, {'claim': claim_text, 'evidence': evidence})\n",
        "    if not verdict:\n",
        "        return \"Error generating verdict.\"\n",
        "\n",
        "    return verdict"
      ],
      "metadata": {
        "id": "MJSBu82I-O6a"
      },
      "execution_count": null,
      "outputs": []
    },
    {
      "cell_type": "code",
      "source": [
        "def process_claim(claim_text):\n",
        "    # Process the initial claim to extract keywords\n",
        "    keywords = claim_analysis_agent(claim_text)\n",
        "\n",
        "    # Retrieve relevant evidence based on the extracted keywords\n",
        "    evidence = evidence_retrieval_agent(keywords)\n",
        "\n",
        "    # Generate a verdict and explanation based on the claim and retrieved evidence\n",
        "    verdict = verdict_and_explanation_agent(claim_text, evidence)\n",
        "\n",
        "    return verdict\n"
      ],
      "metadata": {
        "id": "E_AKJ_Ja81f0"
      },
      "execution_count": null,
      "outputs": []
    },
    {
      "cell_type": "code",
      "source": [
        "def claim_analysis_agent(claim_text):\n",
        "    # Simulated function to extract keywords using BioBERT\n",
        "    keywords = extract_keywords_with_biobert(claim_text)\n",
        "    return keywords\n",
        "\n",
        "def evidence_retrieval_agent(keywords):\n",
        "    # Simulated function to retrieve evidence using ClinicalBERT\n",
        "    evidence = retrieve_evidence_with_clinicalbert(keywords)\n",
        "    return evidence\n",
        "\n",
        "def verdict_and_explanation_agent(claim, evidence):\n",
        "    # Simulated function to generate verdict and explanation using LLaMA\n",
        "    verdict_details = generate_verdict_with_llama(claim, evidence)\n",
        "    return verdict_details\n"
      ],
      "metadata": {
        "id": "3N_xztgB8yLz"
      },
      "execution_count": null,
      "outputs": []
    },
    {
      "cell_type": "code",
      "source": [],
      "metadata": {
        "id": "nUZc4QZc80TQ"
      },
      "execution_count": null,
      "outputs": []
    },
    {
      "cell_type": "code",
      "execution_count": null,
      "metadata": {
        "colab": {
          "base_uri": "https://localhost:8080/",
          "height": 445,
          "referenced_widgets": [
            "04f07092ac674f9580d8af71155d87da",
            "bf8f9c675e0443489ae3a4c5b6d7c4cd",
            "f952e822bc374ad8a83c1e9942416eb0",
            "7a464594dadc4dd591f6fd80ff71b8ea",
            "cb1a01e9d08d41d49b38e8abd503553a",
            "51a37a2fe8444a96859293e9a82ad83d"
          ]
        },
        "id": "_HOTUHlW8cYy",
        "outputId": "7512968c-b8c0-46f4-d3a1-fa11895328b4"
      },
      "outputs": [
        {
          "output_type": "display_data",
          "data": {
            "text/plain": [
              "Text(value='', description='Claim:', placeholder='Type a health claim here')"
            ],
            "application/vnd.jupyter.widget-view+json": {
              "version_major": 2,
              "version_minor": 0,
              "model_id": "04f07092ac674f9580d8af71155d87da"
            }
          },
          "metadata": {}
        },
        {
          "output_type": "display_data",
          "data": {
            "text/plain": [
              "Textarea(value='', description='Result:', disabled=True, layout=Layout(height='200px', width='400px'), placeho…"
            ],
            "application/vnd.jupyter.widget-view+json": {
              "version_major": 2,
              "version_minor": 0,
              "model_id": "7a464594dadc4dd591f6fd80ff71b8ea"
            }
          },
          "metadata": {}
        },
        {
          "output_type": "error",
          "ename": "NameError",
          "evalue": "name 'process_claim' is not defined",
          "traceback": [
            "\u001b[0;31m---------------------------------------------------------------------------\u001b[0m",
            "\u001b[0;31mNameError\u001b[0m                                 Traceback (most recent call last)",
            "\u001b[0;32m<ipython-input-1-f995c185f836>\u001b[0m in \u001b[0;36mon_submit\u001b[0;34m(change)\u001b[0m\n\u001b[1;32m     21\u001b[0m         \u001b[0mclaim\u001b[0m \u001b[0;34m=\u001b[0m \u001b[0minput_textbox\u001b[0m\u001b[0;34m.\u001b[0m\u001b[0mvalue\u001b[0m\u001b[0;34m\u001b[0m\u001b[0;34m\u001b[0m\u001b[0m\n\u001b[1;32m     22\u001b[0m         \u001b[0;32mif\u001b[0m \u001b[0mclaim\u001b[0m\u001b[0;34m:\u001b[0m\u001b[0;34m\u001b[0m\u001b[0;34m\u001b[0m\u001b[0m\n\u001b[0;32m---> 23\u001b[0;31m             \u001b[0mverdict\u001b[0m \u001b[0;34m=\u001b[0m \u001b[0mprocess_claim\u001b[0m\u001b[0;34m(\u001b[0m\u001b[0mclaim\u001b[0m\u001b[0;34m)\u001b[0m\u001b[0;34m\u001b[0m\u001b[0;34m\u001b[0m\u001b[0m\n\u001b[0m\u001b[1;32m     24\u001b[0m             \u001b[0moutput_text\u001b[0m\u001b[0;34m.\u001b[0m\u001b[0mvalue\u001b[0m \u001b[0;34m=\u001b[0m \u001b[0mstr\u001b[0m\u001b[0;34m(\u001b[0m\u001b[0mverdict\u001b[0m\u001b[0;34m)\u001b[0m  \u001b[0;31m# Assuming verdict is a string or converted to string\u001b[0m\u001b[0;34m\u001b[0m\u001b[0;34m\u001b[0m\u001b[0m\n\u001b[1;32m     25\u001b[0m         \u001b[0minput_textbox\u001b[0m\u001b[0;34m.\u001b[0m\u001b[0mvalue\u001b[0m \u001b[0;34m=\u001b[0m \u001b[0;34m''\u001b[0m  \u001b[0;31m# Clear the input after processing\u001b[0m\u001b[0;34m\u001b[0m\u001b[0;34m\u001b[0m\u001b[0m\n",
            "\u001b[0;31mNameError\u001b[0m: name 'process_claim' is not defined"
          ]
        }
      ],
      "source": [
        "from ipywidgets import widgets\n",
        "from IPython.display import display\n",
        "\n",
        "def main():\n",
        "    input_textbox = widgets.Text(\n",
        "        value='',\n",
        "        placeholder='Type a health claim here',\n",
        "        description='Claim:',\n",
        "        disabled=False\n",
        "    )\n",
        "\n",
        "    output_text = widgets.Textarea(\n",
        "        value='',\n",
        "        placeholder='Fact-check result will appear here...',\n",
        "        description='Result:',\n",
        "        disabled=True,\n",
        "        layout={'width': '400px', 'height': '200px'}\n",
        "    )\n",
        "\n",
        "    def on_submit(change):\n",
        "        claim = input_textbox.value\n",
        "        if claim:\n",
        "            verdict = process_claim(claim)\n",
        "            output_text.value = str(verdict)  # Assuming verdict is a string or converted to string\n",
        "        input_textbox.value = ''  # Clear the input after processing\n",
        "\n",
        "    input_textbox.on_submit(on_submit)\n",
        "    display(input_textbox, output_text)\n",
        "\n",
        "if __name__ == \"__main__\":\n",
        "    main()\n"
      ]
    }
  ]
}