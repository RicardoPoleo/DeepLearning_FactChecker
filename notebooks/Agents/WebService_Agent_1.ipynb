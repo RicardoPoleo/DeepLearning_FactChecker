{
  "nbformat": 4,
  "nbformat_minor": 0,
  "metadata": {
    "colab": {
      "provenance": [],
      "authorship_tag": "ABX9TyNmRCEOnsaUeL3ZP7/JgQ0R",
      "include_colab_link": true
    },
    "kernelspec": {
      "name": "python3",
      "display_name": "Python 3"
    },
    "language_info": {
      "name": "python"
    }
  },
  "cells": [
    {
      "cell_type": "markdown",
      "metadata": {
        "id": "view-in-github",
        "colab_type": "text"
      },
      "source": [
        "<a href=\"https://colab.research.google.com/github/RicardoPoleo/DeepLearning_FactChecker/blob/main/notebooks/Agents/WebService_Agent_1.ipynb\" target=\"_parent\"><img src=\"https://colab.research.google.com/assets/colab-badge.svg\" alt=\"Open In Colab\"/></a>"
      ]
    },
    {
      "cell_type": "code",
      "source": [
        "#@title Install dependencies\n",
        "!pip install fastapi uvicorn transformers\n",
        "!npm install -g localtunnel"
      ],
      "metadata": {
        "id": "JWZF848-o-3D"
      },
      "execution_count": null,
      "outputs": []
    },
    {
      "cell_type": "code",
      "source": [
        "from transformers import AutoTokenizer, AutoModelForTokenClassification\n",
        "import torch\n",
        "\n",
        "class ClaimAnalysisAgent:\n",
        "    def __init__(self):\n",
        "        # Load the tokenizer and model\n",
        "        self.tokenizer = AutoTokenizer.from_pretrained(\"Clinical-AI-Apollo/Medical-NER\")\n",
        "        self.model = AutoModelForTokenClassification.from_pretrained(\"Clinical-AI-Apollo/Medical-NER\")\n",
        "\n",
        "        # Add special tokens (like \"COVID-19\") to tokenizer\n",
        "        special_tokens = [\"COVID-19\"]\n",
        "        self.tokenizer.add_tokens(special_tokens)\n",
        "        self.model.resize_token_embeddings(len(self.tokenizer))\n",
        "\n",
        "    def analyze_claim(self, text):\n",
        "        # Tokenize input text with a specified max length\n",
        "        inputs = self.tokenizer(text, return_tensors=\"pt\", truncation=True, padding=True, max_length=512)\n",
        "\n",
        "        # Perform token classification\n",
        "        outputs = self.model(**inputs).logits\n",
        "\n",
        "        # Get the predicted token classes\n",
        "        predictions = torch.argmax(outputs, dim=2)\n",
        "\n",
        "        # Decode the tokens and labels\n",
        "        tokens = self.tokenizer.convert_ids_to_tokens(inputs[\"input_ids\"][0])\n",
        "        labels = [self.model.config.id2label[p.item()] for p in predictions[0]]\n",
        "\n",
        "        # Extract and clean entities\n",
        "        entities = []\n",
        "        current_entity = []\n",
        "        for token, label in zip(tokens, labels):\n",
        "            if token in [\"[CLS]\", \"[SEP]\"]:\n",
        "                continue  # Ignore special tokens\n",
        "\n",
        "            if label != \"O\":  # Consider only entity labels\n",
        "                current_entity.append(token)\n",
        "            else:\n",
        "                if current_entity:\n",
        "                    entity = \"\".join(current_entity).replace(\"▁\", \" \").strip()\n",
        "                    if entity not in entities:  # Avoid duplicates\n",
        "                        entities.append(entity)\n",
        "                current_entity = []\n",
        "\n",
        "        if current_entity:\n",
        "            entity = \"\".join(current_entity).replace(\"▁\", \" \").strip()\n",
        "            if entity not in entities:  # Avoid duplicates\n",
        "                entities.append(entity)\n",
        "\n",
        "        return entities\n",
        "\n",
        "# Example usage\n",
        "claim_analysis_agent = ClaimAnalysisAgent()\n",
        "text1 = \"Vitamin C cures cancer. COVID-19 is a global pandemic.\"\n",
        "entities1 = claim_analysis_agent.analyze_claim(text1)\n",
        "print(\"Extracted entities:\", entities1)\n",
        "\n",
        "text2 = \"A face-covering can prevent people who are asymptomatic carriers of COVID-19 from spreading the virus.\"\n",
        "entities2 = claim_analysis_agent.analyze_claim(text2)\n",
        "print(\"Extracted entities:\", entities2)"
      ],
      "metadata": {
        "id": "1RghdLTBo8Fi"
      },
      "execution_count": null,
      "outputs": []
    },
    {
      "cell_type": "code",
      "execution_count": null,
      "metadata": {
        "id": "zHcUnT09ol29"
      },
      "outputs": [],
      "source": [
        "#@title Load the model\n",
        "\n",
        "\n",
        "from fastapi import FastAPI\n",
        "from pydantic import BaseModel\n",
        "from transformers import AutoTokenizer, AutoModelForTokenClassification, pipeline\n",
        "import uvicorn\n",
        "import subprocess\n",
        "import threading\n",
        "\n",
        "app = FastAPI()\n",
        "\n",
        "# Load the tokenizer and model\n",
        "model_name = \"emilyalsentzer/Bio_ClinicalBERT\"\n",
        "tokenizer = AutoTokenizer.from_pretrained(model_name)\n",
        "model = AutoModelForTokenClassification.from_pretrained(model_name)\n",
        "\n",
        "# Load the NER pipeline\n",
        "ner_pipeline = pipeline(\"ner\", model=model, tokenizer=tokenizer)\n",
        "\n",
        "class RequestModel(BaseModel):\n",
        "    text: str\n",
        "\n",
        "@app.post(\"/ner\")\n",
        "def perform_ner(request: RequestModel):\n",
        "    entities = ner_pipeline(request.text)\n",
        "    decoded_entities = []\n",
        "    current_entity = {\"entity\": None, \"score\": 0, \"word\": \"\"}\n",
        "\n",
        "    for entity in entities:\n",
        "        word = tokenizer.convert_ids_to_tokens(tokenizer.convert_tokens_to_ids(entity['word']))\n",
        "        if entity['entity'] != current_entity['entity']:\n",
        "            if current_entity['entity'] is not None:\n",
        "                decoded_entities.append(current_entity)\n",
        "            current_entity = {\"entity\": entity['entity'], \"score\": entity['score'], \"word\": word}\n",
        "        else:\n",
        "            current_entity['word'] += word.replace(\"##\", \"\")\n",
        "            current_entity['score'] = max(current_entity['score'], entity['score'])\n",
        "\n",
        "    if current_entity['entity'] is not None:\n",
        "        decoded_entities.append(current_entity)\n",
        "\n",
        "    return {\"entities\": decoded_entities}\n",
        "\n",
        "def start_uvicorn():\n",
        "    uvicorn.run(app, host=\"0.0.0.0\", port=8000)\n",
        "\n",
        "# Free the port before starting the server\n",
        "!fuser -k 8000/tcp\n",
        "\n",
        "thread = threading.Thread(target=start_uvicorn)\n",
        "thread.start()\n",
        "\n",
        "process = subprocess.Popen([\"lt\", \"--port\", \"8000\"], stdout=subprocess.PIPE)\n",
        "for line in process.stdout:\n",
        "    print(line.decode().strip())\n"
      ]
    }
  ]
}