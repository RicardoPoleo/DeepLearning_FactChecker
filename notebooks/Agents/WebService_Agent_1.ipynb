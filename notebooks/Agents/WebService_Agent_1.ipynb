{
  "nbformat": 4,
  "nbformat_minor": 0,
  "metadata": {
    "colab": {
      "provenance": [],
      "authorship_tag": "ABX9TyPwZBijXCaIM70BEOOGzcWH",
      "include_colab_link": true
    },
    "kernelspec": {
      "name": "python3",
      "display_name": "Python 3"
    },
    "language_info": {
      "name": "python"
    }
  },
  "cells": [
    {
      "cell_type": "markdown",
      "metadata": {
        "id": "view-in-github",
        "colab_type": "text"
      },
      "source": [
        "<a href=\"https://colab.research.google.com/github/RicardoPoleo/DeepLearning_FactChecker/blob/main/notebooks/Agents/WebService_Agent_1.ipynb\" target=\"_parent\"><img src=\"https://colab.research.google.com/assets/colab-badge.svg\" alt=\"Open In Colab\"/></a>"
      ]
    },
    {
      "cell_type": "code",
      "source": [
        "#@title Install dependencies\n",
        "# Note to self: I'm not sure about this sentence-transformers dependency\n",
        "!pip install torch transformers sentence-transformers fastapi uvicorn\n",
        "!npm install -g localtunnel"
      ],
      "metadata": {
        "id": "JWZF848-o-3D"
      },
      "execution_count": null,
      "outputs": []
    },
    {
      "cell_type": "code",
      "source": [
        "#@title Load the Model Class\n",
        "import torch\n",
        "from transformers import AutoTokenizer, AutoModelForTokenClassification\n",
        "import logging\n",
        "\n",
        "# Setup basic configuration for logging\n",
        "logging.basicConfig(level=logging.INFO)\n",
        "\n",
        "class ClaimAnalysisAgent:\n",
        "    def __init__(self, model_name=\"Clinical-AI-Apollo/Medical-NER\", tokenizer_name=None, max_length=512):\n",
        "        if tokenizer_name is None:\n",
        "            tokenizer_name = model_name\n",
        "        try:\n",
        "            self.tokenizer = AutoTokenizer.from_pretrained(tokenizer_name)\n",
        "            self.model = AutoModelForTokenClassification.from_pretrained(model_name)\n",
        "            logging.info(f\"Model and tokenizer loaded successfully from {model_name}.\")\n",
        "        except Exception as e:\n",
        "            logging.error(f\"Failed to load model or tokenizer: {e}\")\n",
        "            raise\n",
        "\n",
        "        special_tokens = [\"COVID-19\"]\n",
        "        self.tokenizer.add_tokens(special_tokens)\n",
        "        self.model.resize_token_embeddings(len(self.tokenizer))\n",
        "        self.max_length = max_length\n",
        "\n",
        "    def extract_entities(self, tokens, labels):\n",
        "        entities = []\n",
        "        current_entity = []\n",
        "        for token, label in zip(tokens, labels):\n",
        "            if token in [\"[CLS]\", \"[SEP]\"]:\n",
        "                continue\n",
        "            if token.startswith(\"▁\"):\n",
        "                token = token[1:]  # Handling tokenization artifacts\n",
        "            if label != \"O\":\n",
        "                if token.startswith(\"##\"):\n",
        "                    token = token[2:]\n",
        "                if current_entity and not token.startswith(\"##\"):\n",
        "                    entities.append(\" \".join(current_entity))\n",
        "                    current_entity = []\n",
        "                current_entity.append(token)\n",
        "            else:\n",
        "                if current_entity:\n",
        "                    entities.append(\" \".join(current_entity))\n",
        "                    current_entity = []\n",
        "\n",
        "        if current_entity:\n",
        "            entities.append(\" \".join(current_entity))\n",
        "\n",
        "        return list(set(entities))  # Removing duplicates if needed\n",
        "\n",
        "    def analyze_claim(self, texts):\n",
        "        if isinstance(texts, str):\n",
        "            texts = [texts]  # Allow single string input for convenience\n",
        "        inputs = self.tokenizer(texts, return_tensors=\"pt\", truncation=True, padding=True, max_length=self.max_length)\n",
        "        outputs = self.model(**inputs).logits\n",
        "        predictions = torch.argmax(outputs, dim=2)\n",
        "\n",
        "        results = []\n",
        "        for i in range(len(texts)):\n",
        "            tokens = self.tokenizer.convert_ids_to_tokens(inputs[\"input_ids\"][i])\n",
        "            labels = [self.model.config.id2label[p.item()] for p in predictions[i]]\n",
        "            entities = self.extract_entities(tokens, labels)\n",
        "            results.append(entities)\n",
        "        return results"
      ],
      "metadata": {
        "id": "v37isuxpxDOm"
      },
      "execution_count": null,
      "outputs": []
    },
    {
      "cell_type": "code",
      "execution_count": null,
      "metadata": {
        "id": "zHcUnT09ol29"
      },
      "outputs": [],
      "source": [
        "#@title Start the Web Service\n",
        "from fastapi import FastAPI\n",
        "from pydantic import BaseModel\n",
        "import uvicorn\n",
        "import subprocess\n",
        "import threading\n",
        "\n",
        "app = FastAPI()\n",
        "\n",
        "class RequestModel(BaseModel):\n",
        "    text: str\n",
        "\n",
        "@app.post(\"/analyze_claim\")\n",
        "def analyze_claim(request: RequestModel):\n",
        "    agent = ClaimAnalysisAgent()\n",
        "    entities = agent.analyze_claim(request.text)\n",
        "    return {\"entities\": entities}\n",
        "\n",
        "def start_uvicorn():\n",
        "    uvicorn.run(app, host=\"0.0.0.0\", port=8000)\n",
        "\n",
        "# Free the port before starting the server\n",
        "!fuser -k 8000/tcp\n",
        "\n",
        "thread = threading.Thread(target=start_uvicorn)\n",
        "thread.start()\n",
        "\n",
        "process = subprocess.Popen([\"lt\", \"--port\", \"8000\"], stdout=subprocess.PIPE)\n",
        "for line in process.stdout:\n",
        "    print(line.decode().strip())\n"
      ]
    }
  ]
}